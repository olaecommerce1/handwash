{
 "cells": [
  {
   "cell_type": "code",
   "execution_count": 1,
   "id": "initial_id",
   "metadata": {
    "collapsed": true,
    "ExecuteTime": {
     "end_time": "2024-04-14T07:01:09.733480500Z",
     "start_time": "2024-04-14T07:01:04.741554900Z"
    }
   },
   "outputs": [],
   "source": [
    "import tensorflow as tf\n",
    "from tensorflow.keras.models import Model\n",
    "from tensorflow.keras.layers import Input, Dense, Dropout, GlobalAveragePooling2D, Concatenate\n",
    "from tensorflow.keras.applications import MobileNetV3Small\n",
    "from tensorflow.keras.optimizers import Adam\n",
    "from tensorflow.keras.callbacks import EarlyStopping, ModelCheckpoint\n",
    "from tensorflow.keras.preprocessing import image_dataset_from_directory"
   ]
  },
  {
   "cell_type": "code",
   "outputs": [],
   "source": [
    "# Function to ensure dataset consistency\n",
    "def ensure_consistent_batches(train_ds, val_ds):\n",
    "    # Check and adjust train dataset\n",
    "    number_of_train_batches = tf.data.experimental.cardinality(train_ds).numpy()\n",
    "    number_of_val_batches = tf.data.experimental.cardinality(val_ds).numpy()\n",
    "\n",
    "    print(f\"Training batches: {number_of_train_batches}\")\n",
    "    print(f\"Validation batches: {number_of_val_batches}\")\n",
    "\n",
    "    # Ensure both datasets have batches fully divisible by batch_size and aligned\n",
    "    assert number_of_train_batches == number_of_val_batches, \"Train and validation datasets have unaligned batch numbers!\"\n",
    "\n",
    "# Load and preprocess dataset\n",
    "def create_dataset(rgb_dir, of_dir, batch_size=32, img_size=(224, 224), validation_split=None, subset=None):\n",
    "    \"\"\"\n",
    "    Load and merge datasets from given directories for RGB and Optical Flow images.\n",
    "    \"\"\"\n",
    "    preprocess = tf.keras.applications.mobilenet_v3.preprocess_input\n",
    "\n",
    "    rgb_ds = image_dataset_from_directory(\n",
    "        rgb_dir,\n",
    "        labels='inferred',\n",
    "        label_mode='categorical',\n",
    "        class_names=None,\n",
    "        color_mode='rgb',\n",
    "        batch_size=batch_size,  # Originally batched here\n",
    "        image_size=img_size,\n",
    "        shuffle=True,\n",
    "        seed=42,\n",
    "        validation_split=validation_split,\n",
    "        subset=subset,\n",
    "        interpolation='bilinear',\n",
    "        follow_links=False\n",
    "    ).map(lambda x, y: (preprocess(x), y))\n",
    "\n",
    "    of_ds = image_dataset_from_directory(\n",
    "        of_dir,\n",
    "        labels='inferred',\n",
    "        label_mode='categorical',\n",
    "        class_names=None,\n",
    "        color_mode='rgb',\n",
    "        batch_size=batch_size,  # Originally batched here\n",
    "        image_size=img_size,\n",
    "        shuffle=True,\n",
    "        seed=42,\n",
    "        validation_split=validation_split,\n",
    "        subset=subset,\n",
    "        interpolation='bilinear',\n",
    "        follow_links=False\n",
    "    ).map(lambda x, y: (preprocess(x), y))\n",
    "\n",
    "    # Ensure batches are the same size by applying drop_remainder=True\n",
    "    rgb_ds = rgb_ds.unbatch().batch(batch_size, drop_remainder=True)\n",
    "    of_ds = of_ds.unbatch().batch(batch_size, drop_remainder=True)\n",
    "\n",
    "    # Zip datasets together\n",
    "    return tf.data.Dataset.zip((rgb_ds, of_ds)).map(lambda x, y: ((x[0], y[0]), y[1]))"
   ],
   "metadata": {
    "collapsed": false,
    "ExecuteTime": {
     "end_time": "2024-04-14T07:01:11.976850100Z",
     "start_time": "2024-04-14T07:01:11.964377200Z"
    }
   },
   "id": "70eecf079edffb58",
   "execution_count": 2
  },
  {
   "cell_type": "code",
   "outputs": [],
   "source": [
    "def rename_model_layers(model, prefix):\n",
    "    \"\"\"\n",
    "    Rename all layers in a given model with a specified prefix.\n",
    "    \"\"\"\n",
    "    for layer in model.layers:\n",
    "        layer._name = f'{prefix}_{layer.name}'\n",
    "    return model\n",
    "\n",
    "# Define and compile the model\n",
    "def create_dual_stream_mobilenetv3(input_shape, num_classes):\n",
    "    \"\"\"\n",
    "    Creates a dual-stream MobileNetV3Small architecture for handling both RGB and Optical Flow inputs.\n",
    "    \"\"\"\n",
    "    # Base model for RGB data\n",
    "    rgb_input = Input(shape=input_shape, name='rgb_input')\n",
    "    rgb_base_model = MobileNetV3Small(include_top=False, input_tensor=rgb_input, weights='imagenet')\n",
    "    rgb_base_model = rename_model_layers(rgb_base_model, 'rgb')\n",
    "\n",
    "    # Base model for Optical Flow data\n",
    "    of_input = Input(shape=input_shape, name='of_input')\n",
    "    of_base_model = MobileNetV3Small(include_top=False, input_tensor=of_input, weights='imagenet')\n",
    "    of_base_model = rename_model_layers(of_base_model, 'of')\n",
    "\n",
    "    # Ensure GlobalAveragePooling is applied to collapse the spatial dimensions\n",
    "    rgb_features = GlobalAveragePooling2D()(rgb_base_model.output)\n",
    "    of_features = GlobalAveragePooling2D()(of_base_model.output)\n",
    "\n",
    "    # Concatenate the features from both streams\n",
    "    concatenated_features = Concatenate()([rgb_features, of_features])\n",
    "\n",
    "    # Dense layer for classification\n",
    "    x = Dense(512, activation='relu')(concatenated_features)\n",
    "    x = Dropout(0.3)(x)\n",
    "    outputs = Dense(num_classes, activation='softmax')(x)  # Ensure the output matches the number of classes\n",
    "\n",
    "    # Construct and compile the model\n",
    "    model = Model(inputs=[rgb_input, of_input], outputs=outputs)\n",
    "    model.compile(optimizer=Adam(learning_rate=0.0001), loss='categorical_crossentropy', metrics=['accuracy'])\n",
    "\n",
    "    return model"
   ],
   "metadata": {
    "collapsed": false,
    "ExecuteTime": {
     "end_time": "2024-04-14T07:01:16.206178300Z",
     "start_time": "2024-04-14T07:01:16.198425700Z"
    }
   },
   "id": "7ec04d5d269d8a86",
   "execution_count": 3
  },
  {
   "cell_type": "code",
   "outputs": [],
   "source": [
    "# Directory locations\n",
    "rgb_dir = 'kaggle-dataset-6classes-preprocessed/frames/trainval'\n",
    "of_dir = 'kaggle-dataset-6classes-preprocessed/of/trainval'\n",
    "test_rgb_dir = 'kaggle-dataset-6classes-preprocessed/frames/test'\n",
    "test_of_dir = 'kaggle-dataset-6classes-preprocessed/of/test'"
   ],
   "metadata": {
    "collapsed": false,
    "ExecuteTime": {
     "end_time": "2024-04-14T07:01:20.156337300Z",
     "start_time": "2024-04-14T07:01:20.144325900Z"
    }
   },
   "id": "e510bf9692624848",
   "execution_count": 4
  },
  {
   "cell_type": "code",
   "outputs": [
    {
     "name": "stdout",
     "output_type": "stream",
     "text": [
      "Found 81089 files belonging to 7 classes.\n",
      "Using 64872 files for training.\n",
      "Found 80054 files belonging to 7 classes.\n",
      "Using 64044 files for training.\n",
      "Found 81089 files belonging to 7 classes.\n",
      "Using 16217 files for validation.\n",
      "Found 80054 files belonging to 7 classes.\n",
      "Using 16010 files for validation.\n",
      "Found 35114 files belonging to 7 classes.\n",
      "Found 34649 files belonging to 7 classes.\n"
     ]
    }
   ],
   "source": [
    "# Parameters\n",
    "batch_size = 32\n",
    "img_size = (224, 224)\n",
    "validation_split = 0.2\n",
    "\n",
    "# Create datasets\n",
    "train_ds = create_dataset(rgb_dir, of_dir, batch_size=batch_size, img_size=img_size, validation_split=validation_split, subset='training')\n",
    "val_ds = create_dataset(rgb_dir, of_dir, batch_size=batch_size, img_size=img_size, validation_split=validation_split, subset='validation')\n",
    "test_ds = create_dataset(test_rgb_dir, test_of_dir, batch_size=batch_size, img_size=img_size)"
   ],
   "metadata": {
    "collapsed": false,
    "ExecuteTime": {
     "end_time": "2024-04-14T07:02:03.921770100Z",
     "start_time": "2024-04-14T07:01:25.610768600Z"
    }
   },
   "id": "aef0ba7f97f54361",
   "execution_count": 5
  },
  {
   "cell_type": "code",
   "outputs": [],
   "source": [
    "# Model Parameters\n",
    "IMG_SHAPE = (224, 224, 3)\n",
    "N_CLASSES = 7\n",
    "\n",
    "# Instantiate and compile the model\n",
    "model = create_dual_stream_mobilenetv3(IMG_SHAPE, N_CLASSES)"
   ],
   "metadata": {
    "collapsed": false,
    "ExecuteTime": {
     "end_time": "2024-04-14T07:02:18.823767600Z",
     "start_time": "2024-04-14T07:02:15.979606800Z"
    }
   },
   "id": "5d8e2940d5da4377",
   "execution_count": 6
  },
  {
   "cell_type": "code",
   "outputs": [
    {
     "name": "stdout",
     "output_type": "stream",
     "text": [
      "(32, 224, 224, 3)\n",
      "(32, 224, 224, 3)\n",
      "(32, 7)\n"
     ]
    }
   ],
   "source": [
    "# Example usage: iterate over the dataset\n",
    "for (rgb_images, of_images), labels in train_ds.take(1):\n",
    "    print(rgb_images.shape)  # Check shape of the RGB images\n",
    "    print(of_images.shape)  # Check shape of the Optical Flow images\n",
    "    print(labels.shape)     # Check shape of the labels"
   ],
   "metadata": {
    "collapsed": false,
    "ExecuteTime": {
     "end_time": "2024-04-14T07:02:26.223749300Z",
     "start_time": "2024-04-14T07:02:24.905358700Z"
    }
   },
   "id": "8113b6ec3365029d",
   "execution_count": 7
  },
  {
   "cell_type": "code",
   "outputs": [],
   "source": [
    "# Training Callbacks\n",
    "es = EarlyStopping(monitor='val_loss', patience=10, verbose=1)\n",
    "mc = ModelCheckpoint('best_handwashing_model.h5', monitor='val_accuracy', save_best_only=True, verbose=1)"
   ],
   "metadata": {
    "collapsed": false,
    "ExecuteTime": {
     "end_time": "2024-04-14T07:02:29.488024400Z",
     "start_time": "2024-04-14T07:02:29.460231Z"
    }
   },
   "id": "85865349da6129d",
   "execution_count": 8
  },
  {
   "cell_type": "code",
   "outputs": [
    {
     "name": "stdout",
     "output_type": "stream",
     "text": [
      "Epoch 1/20\n",
      "   2001/Unknown - 4325s 2s/step - loss: 0.2829 - accuracy: 0.8987\n",
      "Epoch 1: val_accuracy improved from -inf to 0.93625, saving model to best_handwashing_model.h5\n"
     ]
    },
    {
     "ename": "ValueError",
     "evalue": "Unable to create dataset (name already exists)",
     "output_type": "error",
     "traceback": [
      "\u001B[1;31m---------------------------------------------------------------------------\u001B[0m",
      "\u001B[1;31mValueError\u001B[0m                                Traceback (most recent call last)",
      "Cell \u001B[1;32mIn[9], line 2\u001B[0m\n\u001B[0;32m      1\u001B[0m \u001B[38;5;66;03m# Train the model\u001B[39;00m\n\u001B[1;32m----> 2\u001B[0m history \u001B[38;5;241m=\u001B[39m \u001B[43mmodel\u001B[49m\u001B[38;5;241;43m.\u001B[39;49m\u001B[43mfit\u001B[49m\u001B[43m(\u001B[49m\u001B[43mtrain_ds\u001B[49m\u001B[43m,\u001B[49m\u001B[43m \u001B[49m\u001B[43mepochs\u001B[49m\u001B[38;5;241;43m=\u001B[39;49m\u001B[38;5;241;43m20\u001B[39;49m\u001B[43m,\u001B[49m\u001B[43m \u001B[49m\u001B[43mvalidation_data\u001B[49m\u001B[38;5;241;43m=\u001B[39;49m\u001B[43mval_ds\u001B[49m\u001B[43m,\u001B[49m\u001B[43m \u001B[49m\u001B[43mcallbacks\u001B[49m\u001B[38;5;241;43m=\u001B[39;49m\u001B[43m[\u001B[49m\u001B[43mes\u001B[49m\u001B[43m,\u001B[49m\u001B[43m \u001B[49m\u001B[43mmc\u001B[49m\u001B[43m]\u001B[49m\u001B[43m)\u001B[49m\n",
      "File \u001B[1;32m~\\anaconda3\\envs\\tf\\lib\\site-packages\\keras\\utils\\traceback_utils.py:70\u001B[0m, in \u001B[0;36mfilter_traceback.<locals>.error_handler\u001B[1;34m(*args, **kwargs)\u001B[0m\n\u001B[0;32m     67\u001B[0m     filtered_tb \u001B[38;5;241m=\u001B[39m _process_traceback_frames(e\u001B[38;5;241m.\u001B[39m__traceback__)\n\u001B[0;32m     68\u001B[0m     \u001B[38;5;66;03m# To get the full stack trace, call:\u001B[39;00m\n\u001B[0;32m     69\u001B[0m     \u001B[38;5;66;03m# `tf.debugging.disable_traceback_filtering()`\u001B[39;00m\n\u001B[1;32m---> 70\u001B[0m     \u001B[38;5;28;01mraise\u001B[39;00m e\u001B[38;5;241m.\u001B[39mwith_traceback(filtered_tb) \u001B[38;5;28;01mfrom\u001B[39;00m \u001B[38;5;28;01mNone\u001B[39;00m\n\u001B[0;32m     71\u001B[0m \u001B[38;5;28;01mfinally\u001B[39;00m:\n\u001B[0;32m     72\u001B[0m     \u001B[38;5;28;01mdel\u001B[39;00m filtered_tb\n",
      "File \u001B[1;32m~\\anaconda3\\envs\\tf\\lib\\site-packages\\h5py\\_hl\\group.py:183\u001B[0m, in \u001B[0;36mGroup.create_dataset\u001B[1;34m(self, name, shape, dtype, data, **kwds)\u001B[0m\n\u001B[0;32m    180\u001B[0m         parent_path, name \u001B[38;5;241m=\u001B[39m name\u001B[38;5;241m.\u001B[39mrsplit(\u001B[38;5;124mb\u001B[39m\u001B[38;5;124m'\u001B[39m\u001B[38;5;124m/\u001B[39m\u001B[38;5;124m'\u001B[39m, \u001B[38;5;241m1\u001B[39m)\n\u001B[0;32m    181\u001B[0m         group \u001B[38;5;241m=\u001B[39m \u001B[38;5;28mself\u001B[39m\u001B[38;5;241m.\u001B[39mrequire_group(parent_path)\n\u001B[1;32m--> 183\u001B[0m dsid \u001B[38;5;241m=\u001B[39m dataset\u001B[38;5;241m.\u001B[39mmake_new_dset(group, shape, dtype, data, name, \u001B[38;5;241m*\u001B[39m\u001B[38;5;241m*\u001B[39mkwds)\n\u001B[0;32m    184\u001B[0m dset \u001B[38;5;241m=\u001B[39m dataset\u001B[38;5;241m.\u001B[39mDataset(dsid)\n\u001B[0;32m    185\u001B[0m \u001B[38;5;28;01mreturn\u001B[39;00m dset\n",
      "File \u001B[1;32m~\\anaconda3\\envs\\tf\\lib\\site-packages\\h5py\\_hl\\dataset.py:163\u001B[0m, in \u001B[0;36mmake_new_dset\u001B[1;34m(parent, shape, dtype, data, name, chunks, compression, shuffle, fletcher32, maxshape, compression_opts, fillvalue, scaleoffset, track_times, external, track_order, dcpl, dapl, efile_prefix, virtual_prefix, allow_unknown_filter, rdcc_nslots, rdcc_nbytes, rdcc_w0)\u001B[0m\n\u001B[0;32m    160\u001B[0m \u001B[38;5;28;01melse\u001B[39;00m:\n\u001B[0;32m    161\u001B[0m     sid \u001B[38;5;241m=\u001B[39m h5s\u001B[38;5;241m.\u001B[39mcreate_simple(shape, maxshape)\n\u001B[1;32m--> 163\u001B[0m dset_id \u001B[38;5;241m=\u001B[39m \u001B[43mh5d\u001B[49m\u001B[38;5;241;43m.\u001B[39;49m\u001B[43mcreate\u001B[49m\u001B[43m(\u001B[49m\u001B[43mparent\u001B[49m\u001B[38;5;241;43m.\u001B[39;49m\u001B[43mid\u001B[49m\u001B[43m,\u001B[49m\u001B[43m \u001B[49m\u001B[43mname\u001B[49m\u001B[43m,\u001B[49m\u001B[43m \u001B[49m\u001B[43mtid\u001B[49m\u001B[43m,\u001B[49m\u001B[43m \u001B[49m\u001B[43msid\u001B[49m\u001B[43m,\u001B[49m\u001B[43m \u001B[49m\u001B[43mdcpl\u001B[49m\u001B[38;5;241;43m=\u001B[39;49m\u001B[43mdcpl\u001B[49m\u001B[43m,\u001B[49m\u001B[43m \u001B[49m\u001B[43mdapl\u001B[49m\u001B[38;5;241;43m=\u001B[39;49m\u001B[43mdapl\u001B[49m\u001B[43m)\u001B[49m\n\u001B[0;32m    165\u001B[0m \u001B[38;5;28;01mif\u001B[39;00m (data \u001B[38;5;129;01mis\u001B[39;00m \u001B[38;5;129;01mnot\u001B[39;00m \u001B[38;5;28;01mNone\u001B[39;00m) \u001B[38;5;129;01mand\u001B[39;00m (\u001B[38;5;129;01mnot\u001B[39;00m \u001B[38;5;28misinstance\u001B[39m(data, Empty)):\n\u001B[0;32m    166\u001B[0m     dset_id\u001B[38;5;241m.\u001B[39mwrite(h5s\u001B[38;5;241m.\u001B[39mALL, h5s\u001B[38;5;241m.\u001B[39mALL, data)\n",
      "File \u001B[1;32mh5py\\_objects.pyx:54\u001B[0m, in \u001B[0;36mh5py._objects.with_phil.wrapper\u001B[1;34m()\u001B[0m\n",
      "File \u001B[1;32mh5py\\_objects.pyx:55\u001B[0m, in \u001B[0;36mh5py._objects.with_phil.wrapper\u001B[1;34m()\u001B[0m\n",
      "File \u001B[1;32mh5py\\h5d.pyx:138\u001B[0m, in \u001B[0;36mh5py.h5d.create\u001B[1;34m()\u001B[0m\n",
      "\u001B[1;31mValueError\u001B[0m: Unable to create dataset (name already exists)"
     ]
    }
   ],
   "source": [
    "# Train the model\n",
    "history = model.fit(train_ds, epochs=20, validation_data=val_ds, callbacks=[es, mc])"
   ],
   "metadata": {
    "collapsed": false,
    "ExecuteTime": {
     "end_time": "2024-04-14T08:16:41.556047100Z",
     "start_time": "2024-04-14T07:02:31.988215900Z"
    }
   },
   "id": "2ce49438056d7c75",
   "execution_count": 9
  },
  {
   "cell_type": "code",
   "outputs": [
    {
     "name": "stdout",
     "output_type": "stream",
     "text": [
      "Training Dataset:\n",
      "RGB images shape: (32, 224, 224, 3)\n",
      "OF images shape: (32, 224, 224, 3)\n",
      "Labels shape: (32, 7)\n",
      "Validation Dataset:\n",
      "RGB images shape: (32, 224, 224, 3)\n",
      "OF images shape: (32, 224, 224, 3)\n",
      "Labels shape: (32, 7)\n"
     ]
    }
   ],
   "source": [
    "def debug_dataset(ds):\n",
    "    for (rgb_images, of_images), labels in ds.take(1):\n",
    "        print(\"RGB images shape:\", rgb_images.shape)  # Shape of the RGB images batch\n",
    "        print(\"OF images shape:\", of_images.shape)    # Shape of the Optical Flow images batch\n",
    "        print(\"Labels shape:\", labels.shape)          # Shape of the labels batch\n",
    "\n",
    "# Debug the datasets\n",
    "print(\"Training Dataset:\")\n",
    "debug_dataset(train_ds)\n",
    "print(\"Validation Dataset:\")\n",
    "debug_dataset(val_ds)\n"
   ],
   "metadata": {
    "collapsed": false,
    "ExecuteTime": {
     "end_time": "2024-04-14T06:50:44.320960100Z",
     "start_time": "2024-04-14T06:50:40.716893400Z"
    }
   },
   "id": "26ce96d77c773e13",
   "execution_count": 12
  },
  {
   "cell_type": "code",
   "outputs": [
    {
     "name": "stdout",
     "output_type": "stream",
     "text": [
      "1082/1082 [==============================] - 256s 233ms/step - loss: 0.4178 - accuracy: 0.8555\n",
      "Test Loss: 0.4177675247192383\n",
      "Test Accuracy: 0.8555048704147339\n"
     ]
    }
   ],
   "source": [
    "# Evaluate the model on the test dataset\n",
    "test_loss, test_accuracy = model.evaluate(test_ds)\n",
    "print(f\"Test Loss: {test_loss}\")\n",
    "print(f\"Test Accuracy: {test_accuracy}\")"
   ],
   "metadata": {
    "collapsed": false,
    "ExecuteTime": {
     "end_time": "2024-04-14T08:24:29.187107100Z",
     "start_time": "2024-04-14T08:20:13.035906300Z"
    }
   },
   "id": "93e9ab98208aa9d2",
   "execution_count": 10
  },
  {
   "cell_type": "code",
   "outputs": [
    {
     "name": "stdout",
     "output_type": "stream",
     "text": [
      "1/1 [==============================] - 0s 477ms/step\n"
     ]
    },
    {
     "data": {
      "text/plain": "<Figure size 1000x700 with 2 Axes>",
      "image/png": "[encoded data removed]"
     },
     "metadata": {},
     "output_type": "display_data"
    }
   ],
   "source": [
    "import numpy as np\n",
    "import matplotlib.pyplot as plt\n",
    "import seaborn as sns\n",
    "from sklearn.metrics import confusion_matrix, classification_report\n",
    "\n",
    "# Function to predict and return confusion matrix\n",
    "def predict_and_visualize(model, dataset):\n",
    "    images, labels = next(iter(dataset))  # Get one batch of test data\n",
    "    predictions = model.predict(images)  # Predict\n",
    "    predicted_classes = np.argmax(predictions, axis=1)\n",
    "    true_classes = np.argmax(labels, axis=1)\n",
    "    \n",
    "    # Generate confusion matrix\n",
    "    cm = confusion_matrix(true_classes, predicted_classes)\n",
    "    return images, labels, cm, true_classes, predicted_classes\n",
    "\n",
    "# Plotting confusion matrix\n",
    "def plot_confusion_matrix(cm, class_names):\n",
    "    plt.figure(figsize=(10, 7))\n",
    "    sns.heatmap(cm, annot=True, fmt='g', cmap='Blues', xticklabels=class_names, yticklabels=class_names)\n",
    "    plt.xlabel('Predicted')\n",
    "    plt.ylabel('True')\n",
    "    plt.title('Confusion Matrix')\n",
    "    plt.show()\n",
    "\n",
    "# Assuming you have your class names as a list of strings\n",
    "class_names = [str(i) for i in range(7)]  # Update this with your actual class names if available\n",
    "\n",
    "# Predict and visualize\n",
    "images, labels, cm, true_classes, predicted_classes = predict_and_visualize(model, test_ds)\n",
    "plot_confusion_matrix(cm, class_names)"
   ],
   "metadata": {
    "collapsed": false,
    "ExecuteTime": {
     "end_time": "2024-04-14T08:38:08.495538900Z",
     "start_time": "2024-04-14T08:38:05.489712500Z"
    }
   },
   "id": "748d72f51dd583fb",
   "execution_count": 14
  },
  {
   "cell_type": "code",
   "outputs": [
    {
     "name": "stdout",
     "output_type": "stream",
     "text": [
      "              precision    recall  f1-score   support\n",
      "\n",
      "           0       0.75      1.00      0.86         3\n",
      "           1       0.40      1.00      0.57         2\n",
      "           2       0.80      0.80      0.80         5\n",
      "           3       0.50      0.33      0.40         3\n",
      "           4       1.00      0.80      0.89         5\n",
      "           5       0.70      1.00      0.82         7\n",
      "           6       1.00      0.29      0.44         7\n",
      "\n",
      "    accuracy                           0.72        32\n",
      "   macro avg       0.74      0.75      0.68        32\n",
      "weighted avg       0.80      0.72      0.69        32\n"
     ]
    }
   ],
   "source": [
    "# Print classification report for detailed metrics\n",
    "print(classification_report(true_classes, predicted_classes, target_names=class_names))"
   ],
   "metadata": {
    "collapsed": false,
    "ExecuteTime": {
     "end_time": "2024-04-14T08:32:14.979191100Z",
     "start_time": "2024-04-14T08:32:14.946514800Z"
    }
   },
   "id": "d9898078ff4b6f66",
   "execution_count": 12
  },
  {
   "cell_type": "code",
   "outputs": [
    {
     "ename": "TypeError",
     "evalue": "Invalid shape (32, 224, 224, 3) for image data",
     "output_type": "error",
     "traceback": [
      "\u001B[1;31m---------------------------------------------------------------------------\u001B[0m",
      "\u001B[1;31mTypeError\u001B[0m                                 Traceback (most recent call last)",
      "Cell \u001B[1;32mIn[16], line 11\u001B[0m\n\u001B[0;32m      8\u001B[0m     plt\u001B[38;5;241m.\u001B[39mshow()\n\u001B[0;32m     10\u001B[0m \u001B[38;5;66;03m# Use the previous outputs to visualize sample predictions\u001B[39;00m\n\u001B[1;32m---> 11\u001B[0m \u001B[43mdisplay_sample_predictions\u001B[49m\u001B[43m(\u001B[49m\u001B[43mimages\u001B[49m\u001B[43m,\u001B[49m\u001B[43m \u001B[49m\u001B[43mtrue_classes\u001B[49m\u001B[43m,\u001B[49m\u001B[43m \u001B[49m\u001B[43mpredicted_classes\u001B[49m\u001B[43m,\u001B[49m\u001B[43m \u001B[49m\u001B[43mclass_names\u001B[49m\u001B[43m)\u001B[49m\n",
      "Cell \u001B[1;32mIn[16], line 5\u001B[0m, in \u001B[0;36mdisplay_sample_predictions\u001B[1;34m(images, true_labels, predictions, class_names)\u001B[0m\n\u001B[0;32m      3\u001B[0m \u001B[38;5;28;01mfor\u001B[39;00m i \u001B[38;5;129;01min\u001B[39;00m \u001B[38;5;28mrange\u001B[39m(\u001B[38;5;241m10\u001B[39m):  \u001B[38;5;66;03m# Display the first 10 images from the dataset\u001B[39;00m\n\u001B[0;32m      4\u001B[0m     plt\u001B[38;5;241m.\u001B[39msubplot(\u001B[38;5;241m5\u001B[39m, \u001B[38;5;241m2\u001B[39m, i \u001B[38;5;241m+\u001B[39m \u001B[38;5;241m1\u001B[39m)\n\u001B[1;32m----> 5\u001B[0m     \u001B[43mplt\u001B[49m\u001B[38;5;241;43m.\u001B[39;49m\u001B[43mimshow\u001B[49m\u001B[43m(\u001B[49m\u001B[43mimages\u001B[49m\u001B[43m[\u001B[49m\u001B[43mi\u001B[49m\u001B[43m]\u001B[49m\u001B[38;5;241;43m.\u001B[39;49m\u001B[43mnumpy\u001B[49m\u001B[43m(\u001B[49m\u001B[43m)\u001B[49m\u001B[38;5;241;43m.\u001B[39;49m\u001B[43mastype\u001B[49m\u001B[43m(\u001B[49m\u001B[38;5;124;43m\"\u001B[39;49m\u001B[38;5;124;43muint8\u001B[39;49m\u001B[38;5;124;43m\"\u001B[39;49m\u001B[43m)\u001B[49m\u001B[43m)\u001B[49m\n\u001B[0;32m      6\u001B[0m     plt\u001B[38;5;241m.\u001B[39mtitle(\u001B[38;5;124mf\u001B[39m\u001B[38;5;124m\"\u001B[39m\u001B[38;5;124mActual: \u001B[39m\u001B[38;5;132;01m{\u001B[39;00mclass_names[true_labels[i]]\u001B[38;5;132;01m}\u001B[39;00m\u001B[38;5;124m, Predicted: \u001B[39m\u001B[38;5;132;01m{\u001B[39;00mclass_names[predictions[i]]\u001B[38;5;132;01m}\u001B[39;00m\u001B[38;5;124m\"\u001B[39m)\n\u001B[0;32m      7\u001B[0m     plt\u001B[38;5;241m.\u001B[39maxis(\u001B[38;5;124m\"\u001B[39m\u001B[38;5;124moff\u001B[39m\u001B[38;5;124m\"\u001B[39m)\n",
      "File \u001B[1;32m~\\anaconda3\\envs\\tf\\lib\\site-packages\\matplotlib\\pyplot.py:3346\u001B[0m, in \u001B[0;36mimshow\u001B[1;34m(X, cmap, norm, aspect, interpolation, alpha, vmin, vmax, origin, extent, interpolation_stage, filternorm, filterrad, resample, url, data, **kwargs)\u001B[0m\n\u001B[0;32m   3325\u001B[0m \u001B[38;5;129m@_copy_docstring_and_deprecators\u001B[39m(Axes\u001B[38;5;241m.\u001B[39mimshow)\n\u001B[0;32m   3326\u001B[0m \u001B[38;5;28;01mdef\u001B[39;00m \u001B[38;5;21mimshow\u001B[39m(\n\u001B[0;32m   3327\u001B[0m     X: ArrayLike \u001B[38;5;241m|\u001B[39m PIL\u001B[38;5;241m.\u001B[39mImage\u001B[38;5;241m.\u001B[39mImage,\n\u001B[1;32m   (...)\u001B[0m\n\u001B[0;32m   3344\u001B[0m     \u001B[38;5;241m*\u001B[39m\u001B[38;5;241m*\u001B[39mkwargs,\n\u001B[0;32m   3345\u001B[0m ) \u001B[38;5;241m-\u001B[39m\u001B[38;5;241m>\u001B[39m AxesImage:\n\u001B[1;32m-> 3346\u001B[0m     __ret \u001B[38;5;241m=\u001B[39m gca()\u001B[38;5;241m.\u001B[39mimshow(\n\u001B[0;32m   3347\u001B[0m         X,\n\u001B[0;32m   3348\u001B[0m         cmap\u001B[38;5;241m=\u001B[39mcmap,\n\u001B[0;32m   3349\u001B[0m         norm\u001B[38;5;241m=\u001B[39mnorm,\n\u001B[0;32m   3350\u001B[0m         aspect\u001B[38;5;241m=\u001B[39maspect,\n\u001B[0;32m   3351\u001B[0m         interpolation\u001B[38;5;241m=\u001B[39minterpolation,\n\u001B[0;32m   3352\u001B[0m         alpha\u001B[38;5;241m=\u001B[39malpha,\n\u001B[0;32m   3353\u001B[0m         vmin\u001B[38;5;241m=\u001B[39mvmin,\n\u001B[0;32m   3354\u001B[0m         vmax\u001B[38;5;241m=\u001B[39mvmax,\n\u001B[0;32m   3355\u001B[0m         origin\u001B[38;5;241m=\u001B[39morigin,\n\u001B[0;32m   3356\u001B[0m         extent\u001B[38;5;241m=\u001B[39mextent,\n\u001B[0;32m   3357\u001B[0m         interpolation_stage\u001B[38;5;241m=\u001B[39minterpolation_stage,\n\u001B[0;32m   3358\u001B[0m         filternorm\u001B[38;5;241m=\u001B[39mfilternorm,\n\u001B[0;32m   3359\u001B[0m         filterrad\u001B[38;5;241m=\u001B[39mfilterrad,\n\u001B[0;32m   3360\u001B[0m         resample\u001B[38;5;241m=\u001B[39mresample,\n\u001B[0;32m   3361\u001B[0m         url\u001B[38;5;241m=\u001B[39murl,\n\u001B[0;32m   3362\u001B[0m         \u001B[38;5;241m*\u001B[39m\u001B[38;5;241m*\u001B[39m({\u001B[38;5;124m\"\u001B[39m\u001B[38;5;124mdata\u001B[39m\u001B[38;5;124m\"\u001B[39m: data} \u001B[38;5;28;01mif\u001B[39;00m data \u001B[38;5;129;01mis\u001B[39;00m \u001B[38;5;129;01mnot\u001B[39;00m \u001B[38;5;28;01mNone\u001B[39;00m \u001B[38;5;28;01melse\u001B[39;00m {}),\n\u001B[0;32m   3363\u001B[0m         \u001B[38;5;241m*\u001B[39m\u001B[38;5;241m*\u001B[39mkwargs,\n\u001B[0;32m   3364\u001B[0m     )\n\u001B[0;32m   3365\u001B[0m     sci(__ret)\n\u001B[0;32m   3366\u001B[0m     \u001B[38;5;28;01mreturn\u001B[39;00m __ret\n",
      "File \u001B[1;32m~\\anaconda3\\envs\\tf\\lib\\site-packages\\matplotlib\\__init__.py:1465\u001B[0m, in \u001B[0;36m_preprocess_data.<locals>.inner\u001B[1;34m(ax, data, *args, **kwargs)\u001B[0m\n\u001B[0;32m   1462\u001B[0m \u001B[38;5;129m@functools\u001B[39m\u001B[38;5;241m.\u001B[39mwraps(func)\n\u001B[0;32m   1463\u001B[0m \u001B[38;5;28;01mdef\u001B[39;00m \u001B[38;5;21minner\u001B[39m(ax, \u001B[38;5;241m*\u001B[39margs, data\u001B[38;5;241m=\u001B[39m\u001B[38;5;28;01mNone\u001B[39;00m, \u001B[38;5;241m*\u001B[39m\u001B[38;5;241m*\u001B[39mkwargs):\n\u001B[0;32m   1464\u001B[0m     \u001B[38;5;28;01mif\u001B[39;00m data \u001B[38;5;129;01mis\u001B[39;00m \u001B[38;5;28;01mNone\u001B[39;00m:\n\u001B[1;32m-> 1465\u001B[0m         \u001B[38;5;28;01mreturn\u001B[39;00m func(ax, \u001B[38;5;241m*\u001B[39m\u001B[38;5;28mmap\u001B[39m(sanitize_sequence, args), \u001B[38;5;241m*\u001B[39m\u001B[38;5;241m*\u001B[39mkwargs)\n\u001B[0;32m   1467\u001B[0m     bound \u001B[38;5;241m=\u001B[39m new_sig\u001B[38;5;241m.\u001B[39mbind(ax, \u001B[38;5;241m*\u001B[39margs, \u001B[38;5;241m*\u001B[39m\u001B[38;5;241m*\u001B[39mkwargs)\n\u001B[0;32m   1468\u001B[0m     auto_label \u001B[38;5;241m=\u001B[39m (bound\u001B[38;5;241m.\u001B[39marguments\u001B[38;5;241m.\u001B[39mget(label_namer)\n\u001B[0;32m   1469\u001B[0m                   \u001B[38;5;129;01mor\u001B[39;00m bound\u001B[38;5;241m.\u001B[39mkwargs\u001B[38;5;241m.\u001B[39mget(label_namer))\n",
      "File \u001B[1;32m~\\anaconda3\\envs\\tf\\lib\\site-packages\\matplotlib\\axes\\_axes.py:5751\u001B[0m, in \u001B[0;36mAxes.imshow\u001B[1;34m(self, X, cmap, norm, aspect, interpolation, alpha, vmin, vmax, origin, extent, interpolation_stage, filternorm, filterrad, resample, url, **kwargs)\u001B[0m\n\u001B[0;32m   5748\u001B[0m \u001B[38;5;28;01mif\u001B[39;00m aspect \u001B[38;5;129;01mis\u001B[39;00m \u001B[38;5;129;01mnot\u001B[39;00m \u001B[38;5;28;01mNone\u001B[39;00m:\n\u001B[0;32m   5749\u001B[0m     \u001B[38;5;28mself\u001B[39m\u001B[38;5;241m.\u001B[39mset_aspect(aspect)\n\u001B[1;32m-> 5751\u001B[0m \u001B[43mim\u001B[49m\u001B[38;5;241;43m.\u001B[39;49m\u001B[43mset_data\u001B[49m\u001B[43m(\u001B[49m\u001B[43mX\u001B[49m\u001B[43m)\u001B[49m\n\u001B[0;32m   5752\u001B[0m im\u001B[38;5;241m.\u001B[39mset_alpha(alpha)\n\u001B[0;32m   5753\u001B[0m \u001B[38;5;28;01mif\u001B[39;00m im\u001B[38;5;241m.\u001B[39mget_clip_path() \u001B[38;5;129;01mis\u001B[39;00m \u001B[38;5;28;01mNone\u001B[39;00m:\n\u001B[0;32m   5754\u001B[0m     \u001B[38;5;66;03m# image does not already have clipping set, clip to axes patch\u001B[39;00m\n",
      "File \u001B[1;32m~\\anaconda3\\envs\\tf\\lib\\site-packages\\matplotlib\\image.py:723\u001B[0m, in \u001B[0;36m_ImageBase.set_data\u001B[1;34m(self, A)\u001B[0m\n\u001B[0;32m    721\u001B[0m \u001B[38;5;28;01mif\u001B[39;00m \u001B[38;5;28misinstance\u001B[39m(A, PIL\u001B[38;5;241m.\u001B[39mImage\u001B[38;5;241m.\u001B[39mImage):\n\u001B[0;32m    722\u001B[0m     A \u001B[38;5;241m=\u001B[39m pil_to_array(A)  \u001B[38;5;66;03m# Needed e.g. to apply png palette.\u001B[39;00m\n\u001B[1;32m--> 723\u001B[0m \u001B[38;5;28mself\u001B[39m\u001B[38;5;241m.\u001B[39m_A \u001B[38;5;241m=\u001B[39m \u001B[38;5;28;43mself\u001B[39;49m\u001B[38;5;241;43m.\u001B[39;49m\u001B[43m_normalize_image_array\u001B[49m\u001B[43m(\u001B[49m\u001B[43mA\u001B[49m\u001B[43m)\u001B[49m\n\u001B[0;32m    724\u001B[0m \u001B[38;5;28mself\u001B[39m\u001B[38;5;241m.\u001B[39m_imcache \u001B[38;5;241m=\u001B[39m \u001B[38;5;28;01mNone\u001B[39;00m\n\u001B[0;32m    725\u001B[0m \u001B[38;5;28mself\u001B[39m\u001B[38;5;241m.\u001B[39mstale \u001B[38;5;241m=\u001B[39m \u001B[38;5;28;01mTrue\u001B[39;00m\n",
      "File \u001B[1;32m~\\anaconda3\\envs\\tf\\lib\\site-packages\\matplotlib\\image.py:693\u001B[0m, in \u001B[0;36m_ImageBase._normalize_image_array\u001B[1;34m(A)\u001B[0m\n\u001B[0;32m    691\u001B[0m     A \u001B[38;5;241m=\u001B[39m A\u001B[38;5;241m.\u001B[39msqueeze(\u001B[38;5;241m-\u001B[39m\u001B[38;5;241m1\u001B[39m)  \u001B[38;5;66;03m# If just (M, N, 1), assume scalar and apply colormap.\u001B[39;00m\n\u001B[0;32m    692\u001B[0m \u001B[38;5;28;01mif\u001B[39;00m \u001B[38;5;129;01mnot\u001B[39;00m (A\u001B[38;5;241m.\u001B[39mndim \u001B[38;5;241m==\u001B[39m \u001B[38;5;241m2\u001B[39m \u001B[38;5;129;01mor\u001B[39;00m A\u001B[38;5;241m.\u001B[39mndim \u001B[38;5;241m==\u001B[39m \u001B[38;5;241m3\u001B[39m \u001B[38;5;129;01mand\u001B[39;00m A\u001B[38;5;241m.\u001B[39mshape[\u001B[38;5;241m-\u001B[39m\u001B[38;5;241m1\u001B[39m] \u001B[38;5;129;01min\u001B[39;00m [\u001B[38;5;241m3\u001B[39m, \u001B[38;5;241m4\u001B[39m]):\n\u001B[1;32m--> 693\u001B[0m     \u001B[38;5;28;01mraise\u001B[39;00m \u001B[38;5;167;01mTypeError\u001B[39;00m(\u001B[38;5;124mf\u001B[39m\u001B[38;5;124m\"\u001B[39m\u001B[38;5;124mInvalid shape \u001B[39m\u001B[38;5;132;01m{\u001B[39;00mA\u001B[38;5;241m.\u001B[39mshape\u001B[38;5;132;01m}\u001B[39;00m\u001B[38;5;124m for image data\u001B[39m\u001B[38;5;124m\"\u001B[39m)\n\u001B[0;32m    694\u001B[0m \u001B[38;5;28;01mif\u001B[39;00m A\u001B[38;5;241m.\u001B[39mndim \u001B[38;5;241m==\u001B[39m \u001B[38;5;241m3\u001B[39m:\n\u001B[0;32m    695\u001B[0m     \u001B[38;5;66;03m# If the input data has values outside the valid range (after\u001B[39;00m\n\u001B[0;32m    696\u001B[0m     \u001B[38;5;66;03m# normalisation), we issue a warning and then clip X to the bounds\u001B[39;00m\n\u001B[0;32m    697\u001B[0m     \u001B[38;5;66;03m# - otherwise casting wraps extreme values, hiding outliers and\u001B[39;00m\n\u001B[0;32m    698\u001B[0m     \u001B[38;5;66;03m# making reliable interpretation impossible.\u001B[39;00m\n\u001B[0;32m    699\u001B[0m     high \u001B[38;5;241m=\u001B[39m \u001B[38;5;241m255\u001B[39m \u001B[38;5;28;01mif\u001B[39;00m np\u001B[38;5;241m.\u001B[39missubdtype(A\u001B[38;5;241m.\u001B[39mdtype, np\u001B[38;5;241m.\u001B[39minteger) \u001B[38;5;28;01melse\u001B[39;00m \u001B[38;5;241m1\u001B[39m\n",
      "\u001B[1;31mTypeError\u001B[0m: Invalid shape (32, 224, 224, 3) for image data"
     ]
    },
    {
     "data": {
      "text/plain": "<Figure size 1200x1000 with 1 Axes>",
      "image/png": "[encoded data removed]"
     },
     "metadata": {},
     "output_type": "display_data"
    }
   ],
   "source": [
    "def display_sample_predictions(images, true_labels, predictions, class_names):\n",
    "    plt.figure(figsize=(12, 10))\n",
    "    for i in range(10):  # Display the first 10 images from the dataset\n",
    "        plt.subplot(5, 2, i + 1)\n",
    "        plt.imshow(images[i].numpy().astype(\"uint8\"))\n",
    "        plt.title(f\"Actual: {class_names[true_labels[i]]}, Predicted: {class_names[predictions[i]]}\")\n",
    "        plt.axis(\"off\")\n",
    "    plt.show()\n",
    "\n",
    "# Use the previous outputs to visualize sample predictions\n",
    "display_sample_predictions(images, true_classes, predicted_classes, class_names)\n"
   ],
   "metadata": {
    "collapsed": false,
    "ExecuteTime": {
     "end_time": "2024-04-14T08:39:16.339218400Z",
     "start_time": "2024-04-14T08:39:14.870144400Z"
    }
   },
   "id": "42cffbb01bcfc4c0",
   "execution_count": 16
  }
 ],
 "metadata": {
  "kernelspec": {
   "display_name": "Python 3",
   "language": "python",
   "name": "python3"
  },
  "language_info": {
   "codemirror_mode": {
    "name": "ipython",
    "version": 2
   },
   "file_extension": ".py",
   "mimetype": "text/x-python",
   "name": "python",
   "nbconvert_exporter": "python",
   "pygments_lexer": "ipython2",
   "version": "2.7.6"
  }
 },
 "nbformat": 4,
 "nbformat_minor": 5
}
